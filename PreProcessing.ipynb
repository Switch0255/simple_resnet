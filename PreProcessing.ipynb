{
 "cells": [
  {
   "cell_type": "code",
   "execution_count": 1,
   "id": "264f3dae",
   "metadata": {},
   "outputs": [],
   "source": [
    "import cv2\n",
    "import numpy as np\n",
    "import matplotlib.pyplot as plt\n",
    "\n",
    "import PIL\n",
    "import os\n",
    "from os import listdir"
   ]
  },
  {
   "cell_type": "code",
   "execution_count": 3,
   "id": "aee14ab6",
   "metadata": {},
   "outputs": [],
   "source": [
    "data_dir = \"Data_Cancer_Test/\"\n",
    "img_height = 224\n",
    "img_width = 224\n",
    "\n",
    "for folder in listdir(data_dir):\n",
    "    for image in listdir(data_dir + folder):\n",
    "        img_path = data_dir+folder+\"/\"+image\n",
    "        img = cv2.imread(img_path)\n",
    "        resized_img = cv2.resize(img, (img_height, img_width))\n",
    "        cv2.imwrite(img_path, resized_img)\n",
    "\n",
    "        "
   ]
  },
  {
   "cell_type": "code",
   "execution_count": null,
   "id": "9522c60a",
   "metadata": {},
   "outputs": [],
   "source": []
  }
 ],
 "metadata": {
  "kernelspec": {
   "display_name": "Python 3 (ipykernel)",
   "language": "python",
   "name": "python3"
  },
  "language_info": {
   "codemirror_mode": {
    "name": "ipython",
    "version": 3
   },
   "file_extension": ".py",
   "mimetype": "text/x-python",
   "name": "python",
   "nbconvert_exporter": "python",
   "pygments_lexer": "ipython3",
   "version": "3.10.14"
  }
 },
 "nbformat": 4,
 "nbformat_minor": 5
}
